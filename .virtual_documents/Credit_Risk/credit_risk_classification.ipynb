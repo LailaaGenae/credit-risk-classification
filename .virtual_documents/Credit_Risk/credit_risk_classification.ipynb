# Import the modules
import numpy as np
import pandas as pd
from pathlib import Path
from sklearn.metrics import confusion_matrix, classification_report











# Read the CSV file from the Resources folder into a Pandas DataFrame
lending_df = pd.read_csv('Resources/lending_data.csv')

# Review the DataFrame
lending_df.head()





# Separate the data into labels and features

# Separate the y variable, the labels
y = lending_df['loan_status']

# Separate the X variable, the features
x = lending_df.drop(columns=['loan_status'])


# Review the y variable Series
y


# Review the X variable DataFrame
x.head()





# Import the train_test_learn module
from sklearn.model_selection import train_test_split

# Split the data using train_test_split
# Assign a random_state of 1 to the function
x_train, x_test, y_train, y_test = train_test_split(x,y, random_state=1, stratify=y)











# Import the LogisticRegression module from SKLearn
from sklearn.linear_model import LogisticRegression

# Instantiate the Logistic Regression model
# Assign a random_state parameter of 1 to the model
logistic_regression_model = LogisticRegression(random_state=1)

# Fit the model using training data
logistic_regress_model = logistic_regression_model.fit(x_train, y_train)





# Make a prediction using the testing data
testing_predictions = logistic_regress_model.predict(x_test)
print(len(testing_predictions))





# Generate a confusion matrix for the model
logistic_matrix = confusion_matrix(y_test, testing_predictions)
print(logistic_matrix)


# Print the classification report for the model
log_classreport = classification_report(y_test, testing_predictions)
print(log_classreport)









